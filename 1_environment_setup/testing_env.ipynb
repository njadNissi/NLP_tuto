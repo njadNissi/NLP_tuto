{
 "cells": [
  {
   "cell_type": "markdown",
   "metadata": {},
   "source": [
    "# 1. Activate your virtual environment\n",
    "*  with VirtualEnv\n",
    "\n",
    "        source llm_env/bin/activate\n",
    "\n",
    "*  with anaconda\n",
    "\n",
    "        conda activate llm_env\n",
    "\n",
    "# 2. install the depency packages\n",
    "        \n",
    "        pip install -r requirements.txt"
   ]
  },
  {
   "cell_type": "code",
   "execution_count": 2,
   "metadata": {},
   "outputs": [
    {
     "name": "stdout",
     "output_type": "stream",
     "text": [
      "Torch version: 2.5.1\n",
      "Jupyterlab version: 4.2.5\n",
      "Tiktoken version: 0.8.0\n",
      "Matplotlib version: 3.9.2\n",
      "Numpy version: 2.0.1\n",
      "Psutil version: 5.9.0\n",
      "\n",
      ">>> All set. You are good to go!😃\n"
     ]
    }
   ],
   "source": [
    "from importlib.metadata import version\n",
    "\n",
    "\n",
    "with open(\"../requirements.txt\") as f:\n",
    "    packages: list = f.readlines()\n",
    "\n",
    "for package in packages:\n",
    "    name = package.split(\" \")[0]\n",
    "    print(f\"{name.title()} version: {version(name)}\")\n",
    "\n",
    "print(\"\\n>>> All set. You are good to go!😃\")\n"
   ]
  }
 ],
 "metadata": {
  "kernelspec": {
   "display_name": "llm_env",
   "language": "python",
   "name": "python3"
  },
  "language_info": {
   "codemirror_mode": {
    "name": "ipython",
    "version": 3
   },
   "file_extension": ".py",
   "mimetype": "text/x-python",
   "name": "python",
   "nbconvert_exporter": "python",
   "pygments_lexer": "ipython3",
   "version": "3.12.2"
  }
 },
 "nbformat": 4,
 "nbformat_minor": 2
}
